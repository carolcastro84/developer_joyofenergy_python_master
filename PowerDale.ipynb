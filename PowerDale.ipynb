{
  "nbformat": 4,
  "nbformat_minor": 0,
  "metadata": {
    "colab": {
      "name": "PowerDale.ipynb",
      "provenance": [],
      "authorship_tag": "ABX9TyPYct/ZLh2FzLRys2Eddoz2",
      "include_colab_link": true
    },
    "kernelspec": {
      "name": "python3",
      "display_name": "Python 3"
    },
    "language_info": {
      "name": "python"
    }
  },
  "cells": [
    {
      "cell_type": "markdown",
      "metadata": {
        "id": "view-in-github",
        "colab_type": "text"
      },
      "source": [
        "<a href=\"https://colab.research.google.com/github/carolcastro84/developer_joyofenergy_python_master/blob/main/PowerDale.ipynb\" target=\"_parent\"><img src=\"https://colab.research.google.com/assets/colab-badge.svg\" alt=\"Open In Colab\"/></a>"
      ]
    },
    {
      "cell_type": "code",
      "execution_count": null,
      "metadata": {
        "id": "U-zAaVYNiGeu"
      },
      "outputs": [],
      "source": [
        "git developer-joyofenergy-python-master"
      ]
    },
    {
      "cell_type": "code",
      "source": [
        ""
      ],
      "metadata": {
        "id": "vN0rXVtJihj7"
      },
      "execution_count": null,
      "outputs": []
    }
  ]
}